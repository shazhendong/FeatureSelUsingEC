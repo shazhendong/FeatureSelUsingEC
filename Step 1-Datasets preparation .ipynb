{
 "cells": [
  {
   "cell_type": "markdown",
   "id": "7e18ac15",
   "metadata": {
    "pycharm": {
     "name": "#%% md\n"
    }
   },
   "source": [
    "# About\n",
    "The procedures outlined in this notebook prepare datasets for our GA-based feature selection algorithm. Each dataset will be splited into training (80%) and testing (20%) folds.\n",
    "* The origional datasets are stored in /data folder \n",
    "* The processed datasets are stored in /res/train_test folder\n",
    "* The py files relevant to splitting data are in the /scr/dataPreparation folder\n"
   ]
  },
  {
   "cell_type": "markdown",
   "id": "5b710500",
   "metadata": {
    "pycharm": {
     "name": "#%% md\n"
    }
   },
   "source": [
    "# Parameter configurations"
   ]
  },
  {
   "cell_type": "code",
   "execution_count": 1,
   "id": "ba11d5ad",
   "metadata": {
    "pycharm": {
     "name": "#%%\n"
    }
   },
   "outputs": [],
   "source": [
    "import os\n",
    "import sys\n",
    "sys.path.append('scr/dataPreparation')\n",
    "import scr_split_dataset as split\n",
    "import pandas as pd"
   ]
  },
  {
   "cell_type": "code",
   "execution_count": 2,
   "id": "489e140c",
   "metadata": {
    "pycharm": {
     "name": "#%%\n"
    }
   },
   "outputs": [
    {
     "name": "stdout",
     "output_type": "stream",
     "text": [
      "<class 'float'>\n"
     ]
    }
   ],
   "source": [
    "train_pct=0.8\n",
    "print(type(train_pct))# the fraction of training fold\n",
    "seed=25 # random seed for the split"
   ]
  },
  {
   "cell_type": "code",
   "execution_count": 3,
   "id": "2cd5b176",
   "metadata": {
    "pycharm": {
     "name": "#%%\n"
    }
   },
   "outputs": [],
   "source": [
    "# Procedures"
   ]
  },
  {
   "cell_type": "markdown",
   "id": "1383ba6a",
   "metadata": {
    "pycharm": {
     "name": "#%% md\n"
    }
   },
   "source": [
    "## GAMETES datasets"
   ]
  },
  {
   "cell_type": "code",
   "execution_count": 4,
   "id": "d47a59a5",
   "metadata": {
    "pycharm": {
     "name": "#%%\n"
    }
   },
   "outputs": [
    {
     "name": "stdout",
     "output_type": "stream",
     "text": [
      "GAMETES_Epistasis_2-Way_1000atts_0.4H_EDM-1_EDM-1_1.tsv: succeed\n",
      "GAMETES_Heterogeneity_20atts_1600_Het_0.4_0.2_50_EDM-2_001.tsv: succeed\n",
      "GAMETES_Epistasis_2-Way_20atts_0.1H_EDM-1_1.tsv: succeed\n",
      "GAMETES_Epistasis_2-Way_20atts_0.4H_EDM-1_1.tsv: succeed\n",
      "GAMETES_Heterogeneity_20atts_1600_Het_0.4_0.2_75_EDM-2_001.tsv: succeed\n",
      "GAMETES_Epistasis_3-Way_20atts_0.2H_EDM-1_1.tsv: succeed\n"
     ]
    }
   ],
   "source": [
    "# Process GAMETES datasets\n",
    "# Make new directory for result and get data information\n",
    "! mkdir res\n",
    "! mkdir res/GAMETES\n",
    "input_path = 'data/GAMETES'\n",
    "train_path = 'res/GAMETES'\n",
    "filenames = os.listdir(input_path)\n",
    "\n",
    "# Check the file type\n",
    "for file in filenames:\n",
    "    if file.split('.')[-1] == 'tsv':\n",
    "        df = pd.read_csv(input_path + '/' + file, sep='\\t')\n",
    "    else:\n",
    "        continue\n",
    "\n",
    "    x = df.iloc[:, 0:-1]\n",
    "    y = df.iloc[:, -1].values\n",
    "    y = split.attribute_tran(y)\n",
    "\n",
    "    # Split dataset into train and test datasets\n",
    "    train, test = split.train_test(file, x, y, train_pct, seed)\n",
    "\n",
    "    # Save data into the corresponding path\n",
    "    split.save_data(train, test, file ,train_path)"
   ]
  },
  {
   "cell_type": "markdown",
   "id": "015c177d",
   "metadata": {
    "pycharm": {
     "name": "#%% md\n"
    }
   },
   "source": [
    "## GEO datasets"
   ]
  },
  {
   "cell_type": "code",
   "execution_count": 5,
   "id": "98f463bf",
   "metadata": {
    "pycharm": {
     "name": "#%%\n"
    }
   },
   "outputs": [
    {
     "name": "stdout",
     "output_type": "stream",
     "text": [
      "Archive:  data/GEO datasets/Lung_GSE19804_processed.csv.zip\r\n",
      "  inflating: data/GEO datasets/Lung_GSE19804_processed.csv  \r\n",
      "  inflating: data/GEO datasets/__MACOSX/._Lung_GSE19804_processed.csv  \r\n",
      "\r\n",
      "Archive:  data/GEO datasets/Renal_GSE53757_processed.csv.zip\r\n",
      "  inflating: data/GEO datasets/Renal_GSE53757_processed.csv  \r\n",
      "  inflating: data/GEO datasets/__MACOSX/._Renal_GSE53757_processed.csv  \r\n",
      "\r\n",
      "Archive:  data/GEO datasets/Liver_GSE14520_U133A_processed.csv.zip\r\n",
      "  inflating: data/GEO datasets/Liver_GSE14520_U133A_processed.csv  \r\n",
      "  inflating: data/GEO datasets/__MACOSX/._Liver_GSE14520_U133A_processed.csv  \r\n",
      "\r\n",
      "Archive:  data/GEO datasets/Liver_GSE76427_processed.csv.zip\r\n",
      "  inflating: data/GEO datasets/Liver_GSE76427_processed.csv  \r\n",
      "  inflating: data/GEO datasets/__MACOSX/._Liver_GSE76427_processed.csv  \r\n",
      "\r\n",
      "Archive:  data/GEO datasets/Breast_GSE70947_processed.csv.zip\r\n",
      "  inflating: data/GEO datasets/Breast_GSE70947_processed.csv  \r\n",
      "  inflating: data/GEO datasets/__MACOSX/._Breast_GSE70947_processed.csv  \r\n",
      "\r\n",
      "Archive:  data/GEO datasets/Colorectal_GSE44076_processed.csv.zip\r\n",
      "  inflating: data/GEO datasets/Colorectal_GSE44076_processed.csv  \r\n",
      "  inflating: data/GEO datasets/__MACOSX/._Colorectal_GSE44076_processed.csv  \r\n",
      "\r\n",
      "Archive:  data/GEO datasets/Breast_GSE42568_processed.csv.zip\r\n",
      "  inflating: data/GEO datasets/Breast_GSE42568_processed.csv  \r\n",
      "  inflating: data/GEO datasets/__MACOSX/._Breast_GSE42568_processed.csv  \r\n",
      "\r\n",
      "7 archives were successfully processed.\r\n",
      "Renal_GSE53757_processed.csv: succeed\n",
      "Prostate_GSE6919_U95Av2_processed.csv: succeed\n",
      "Lung_GSE19804_processed.csv: succeed\n",
      "Prostate_GSE6919_U95C_processed.csv: succeed\n",
      "Breast_GSE22820_processed.csv: succeed\n",
      "Liver_GSE14520_U133A_processed.csv: succeed\n",
      "Throat_GSE42743_processed.csv: succeed\n",
      "Liver_GSE76427_processed.csv: succeed\n",
      "Breast_GSE42568_processed.csv: succeed\n",
      "Colorectal_GSE44076_processed.csv: succeed\n",
      "Prostate_GSE6919_U95B_processed.csv: succeed\n",
      "Leukemia_GSE63270_processed.csv: succeed\n",
      "Breast_GSE70947_processed.csv: succeed\n"
     ]
    }
   ],
   "source": [
    "# Process GEO dataset\n",
    "! mkdir res/GEO_datasets\n",
    "! unzip -o data/GEO' 'datasets/\\*.zip -d data/GEO' 'datasets\n",
    "\n",
    "input_path = 'data/GEO datasets'\n",
    "train_path = 'res/GEO_datasets'\n",
    "filenames = os.listdir(input_path)\n",
    "\n",
    "! rm -r data/GEO' 'datasets/__MACOSX\n",
    "\n",
    "# Check the file type\n",
    "for file in filenames:\n",
    "    if file.split('.')[-1] == 'csv':\n",
    "        df = pd.read_csv(input_path + '/' + file, sep=',')\n",
    "    else:\n",
    "        continue\n",
    "\n",
    "    x = df.iloc[:, 0:-1]\n",
    "    y = df.iloc[:, -1].values\n",
    "    y = split.attribute_tran(y)\n",
    "\n",
    "    # Split dataset into train and test datasets\n",
    "    train, test = split.train_test(file, x, y, train_pct, seed)\n",
    "\n",
    "    # Save data into the corresponding path\n",
    "    split.save_data(train, test, file ,train_path)"
   ]
  },
  {
   "cell_type": "markdown",
   "id": "15ec373b",
   "metadata": {
    "pycharm": {
     "name": "#%% md\n"
    }
   },
   "source": [
    "## GWAS dataset"
   ]
  },
  {
   "cell_type": "code",
   "execution_count": 6,
   "id": "babee0c0",
   "metadata": {
    "pycharm": {
     "name": "#%%\n"
    }
   },
   "outputs": [],
   "source": [
    "# Process GWAS dataset \n",
    "# use pandas-plink package to I/O plink files"
   ]
  },
  {
   "cell_type": "code",
   "execution_count": null,
   "outputs": [],
   "source": [],
   "metadata": {
    "collapsed": false,
    "pycharm": {
     "name": "#%%\n"
    }
   }
  }
 ],
 "metadata": {
  "kernelspec": {
   "display_name": "Python 3 (ipykernel)",
   "language": "python",
   "name": "python3"
  },
  "language_info": {
   "codemirror_mode": {
    "name": "ipython",
    "version": 3
   },
   "file_extension": ".py",
   "mimetype": "text/x-python",
   "name": "python",
   "nbconvert_exporter": "python",
   "pygments_lexer": "ipython3",
   "version": "3.9.12"
  }
 },
 "nbformat": 4,
 "nbformat_minor": 5
}