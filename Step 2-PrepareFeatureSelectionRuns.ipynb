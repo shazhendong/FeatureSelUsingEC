{
 "cells": [
  {
   "cell_type": "markdown",
   "id": "5a557382",
   "metadata": {
    "pycharm": {
     "name": "#%% md\n"
    }
   },
   "source": [
    "# About\n",
    "The procedure outlined in this notebook prepare documents for hpc. Feature selection runs with various paramter configurations will be performed for the training fold of each dataset. \n",
    "Each dataset will be stored in a folder, in which py files and sh files that are necessary for hpc computation will also be avaliable."
   ]
  },
  {
   "cell_type": "markdown",
   "id": "50ed92e6",
   "metadata": {
    "pycharm": {
     "name": "#%% md\n"
    }
   },
   "source": [
    "# Parameter configurations"
   ]
  },
  {
   "cell_type": "code",
   "execution_count": 1,
   "id": "c6906eca",
   "metadata": {
    "pycharm": {
     "name": "#%%\n"
    }
   },
   "outputs": [],
   "source": [
    "import os\n",
    "import pandas as pd\n",
    "arr_size_limite=list(range(2,64,2))\n",
    "prob_mutation=0.2\n",
    "prob_crossover=0.6\n",
    "num_generation=50\n",
    "population_size=100\n",
    "tour_size=6"
   ]
  },
  {
   "cell_type": "markdown",
   "id": "e4656e78",
   "metadata": {
    "pycharm": {
     "name": "#%% md\n"
    }
   },
   "source": [
    "# Procedures"
   ]
  },
  {
   "cell_type": "markdown",
   "id": "067d602f",
   "metadata": {
    "pycharm": {
     "name": "#%% md\n"
    }
   },
   "source": [
    "## GAMETES datasets"
   ]
  },
  {
   "cell_type": "code",
   "execution_count": 2,
   "id": "48db1bdb",
   "metadata": {
    "pycharm": {
     "name": "#%%\n"
    }
   },
   "outputs": [
    {
     "name": "stdout",
     "output_type": "stream",
     "text": [
      "rm: data/GEO datasets/.DS_Store: No such file or directory\r\n",
      "GAMETES_Epistasis_2-Way_1000atts_0.4H_EDM-1_EDM-1_1.tsv Succeed\n",
      "GAMETES_Epistasis_2-Way_20atts_0.1H_EDM-1_1.tsv Succeed\n",
      "GAMETES_Epistasis_2-Way_20atts_0.4H_EDM-1_1.tsv Succeed\n",
      "GAMETES_Epistasis_3-Way_20atts_0.2H_EDM-1_1.tsv Succeed\n",
      "GAMETES_Heterogeneity_20atts_1600_Het_0.4_0.2_50_EDM-2_001.tsv Succeed\n",
      "GAMETES_Heterogeneity_20atts_1600_Het_0.4_0.2_75_EDM-2_001.tsv Succeed\n"
     ]
    }
   ],
   "source": [
    "# step 1: move datasets to folders\n",
    "# step 2: move GA scrs to folders\n",
    "path = 'res/GAMETES'\n",
    "names = os.listdir(path)\n",
    "\n",
    "! rm -r data/GEO' 'datasets/.DS_Store\n",
    "\n",
    "for name in names:\n",
    "    ! cp scr/GeneticAlgorithm/GeneticAlgorithm_eaSimple_DecisionTree_withFeatureReduction.py $path'/'$name\n",
    "    ! cp scr/GeneticAlgorithm/GeneticAlgorithm_eaSimple_LogisticRegression.py $path'/'$name\n",
    "    ! cp scr/GeneticAlgorithm/mytoolbox.py $path'/'$name\n",
    "# step 3: prepare sh file for hpc\n",
    "\n",
    "data = ['LR', 'DTFR']\n",
    "\n",
    "df = pd.read_excel('scr/dataPreparation/datasets.xlsx',nrows=6)\n",
    "a = df.values.tolist()\n",
    "\n",
    "for val in a:\n",
    "    name = val[0]\n",
    "    limit_split = val[1].split('~')\n",
    "    start = int(limit_split[0])\n",
    "    finish = int(limit_split[1])\n",
    "    time_split = val[2].split('hour')\n",
    "    time = time_split[0]+':00:00'\n",
    "    mem = val[3]\n",
    "    p_size = val[4]\n",
    "    G_num = val[5]\n",
    "    for i in data:\n",
    "        if i == 'LR':\n",
    "            for size in range(start,finish+1):\n",
    "                ! touch $path'/'$name'/Run_eaSimple_'$i'_SizeLimit_'$size'.sh'\n",
    "                ! echo '#!/bin/sh' >> $path'/'$name'/Run_eaSimple_'$i'_SizeLimit_'$size'.sh'\n",
    "                ! echo '#SBATCH --array=1-100' >> $path'/'$name'/Run_eaSimple_'$i'_SizeLimit_'$size'.sh'\n",
    "                ! echo '#SBATCH --job-name=CRC_'$i'_'$size >> $path'/'$name'/Run_eaSimple_'$i'_SizeLimit_'$size'.sh'\n",
    "                ! echo '#SBATCH --time='$time >> $path'/'$name'/Run_eaSimple_'$i'_SizeLimit_'$size'.sh'\n",
    "                ! echo '#SBATCH -c 1' >> $path'/'$name'/Run_eaSimple_'$i'_SizeLimit_'$size'.sh'\n",
    "                ! echo '#SBATCH --mem '$mem >> $path'/'$name'/Run_eaSimple_'$i'_SizeLimit_'$size'.sh'\n",
    "                ! echo >> $path'/'$name'/Run_eaSimple_'$i'_SizeLimit_'$size'.sh'\n",
    "                ! echo 'source $HOME/.local/ENV/bin/activate' >> $path'/'$name'/Run_eaSimple_'$i'_SizeLimit_'$size'.sh'\n",
    "                ! echo >> $path'/'$name'/Run_eaSimple_'$i'_SizeLimit_'$size'.sh'\n",
    "                ! echo 'SIZE_LIMITE='$size >> $path'/'$name'/Run_eaSimple_'$i'_SizeLimit_'$size'.sh'\n",
    "                ! echo >> $path'/'$name'/Run_eaSimple_'$i'_SizeLimit_'$size'.sh'\n",
    "                ! echo 'python GeneticAlgorithm_eaSimple_DecisionTree_withFeatureReduction.py -f '$name'_train.csv -m 0.2 -c 0.8 -t 6 -p '$p_size' -s \"$SIZE_LIMITE\" -g '$G_num' -r 1 > res_simpleGAplus'$i'_sizelim_\"$SIZE_LIMITE\"_$SLURM_ARRAY_TASK_ID.txt' >> $path'/'$name'/Run_eaSimple_'$i'_SizeLimit_'$size'.sh'\n",
    "        else:\n",
    "             for size in range(start,finish+1):\n",
    "                ! touch $path'/'$name'/Run_eaSimple_'$i'_SizeLimit_'$size'.sh'\n",
    "                ! echo '#!/bin/sh' >> $path'/'$name'/Run_eaSimple_'$i'_SizeLimit_'$size'.sh'\n",
    "                ! echo '#SBATCH --array=1-100' >> $path'/'$name'/Run_eaSimple_'$i'_SizeLimit_'$size'.sh'\n",
    "                ! echo '#SBATCH --job-name=CRC_'$i'_'$size >> $path'/'$name'/Run_eaSimple_'$i'_SizeLimit_'$size'.sh'\n",
    "                ! echo '#SBATCH --time='$time >> $path'/'$name'/Run_eaSimple_'$i'_SizeLimit_'$size'.sh'\n",
    "                ! echo '#SBATCH -c 1' >> $path'/'$name'/Run_eaSimple_'$i'_SizeLimit_'$size'.sh'\n",
    "                ! echo '#SBATCH --mem '$mem >> $path'/'$name'/Run_eaSimple_'$i'_SizeLimit_'$size'.sh'\n",
    "                ! echo >> $path'/'$name'/Run_eaSimple_'$i'_SizeLimit_'$size'.sh'\n",
    "                ! echo 'source $HOME/.local/ENV/bin/activate' >> $path'/'$name'/Run_eaSimple_'$i'_SizeLimit_'$size'.sh'\n",
    "                ! echo >> $path'/'$name'/Run_eaSimple_'$i'_SizeLimit_'$size'.sh'\n",
    "                ! echo 'SIZE_LIMITE='$size >> $path'/'$name'/Run_eaSimple_'$i'_SizeLimit_'$size'.sh'\n",
    "                ! echo >> $path'/'$name'/Run_eaSimple_'$i'_SizeLimit_'$size'.sh'\n",
    "                ! echo 'python GeneticAlgorithm_eaSimple_LogisticRegression.py -f '$name'_train.csv -m 0.2 -c 0.8 -t 6 -p '$p_size' -s \"$SIZE_LIMITE\" -g '$G_num' -r 1 > res_simpleGAplus'$i'_sizelim_\"$SIZE_LIMITE\"_$SLURM_ARRAY_TASK_ID.txt' >> $path'/'$name'/Run_eaSimple_'$i'_SizeLimit_'$size'.sh'\n",
    "    print(name+' Succeed')"
   ]
  },
  {
   "cell_type": "markdown",
   "id": "5c656b04",
   "metadata": {
    "pycharm": {
     "name": "#%% md\n"
    }
   },
   "source": [
    "## GEO datasets"
   ]
  },
  {
   "cell_type": "code",
   "execution_count": null,
   "id": "cc0a4472",
   "metadata": {
    "pycharm": {
     "name": "#%%\n",
     "is_executing": true
    }
   },
   "outputs": [
    {
     "name": "stdout",
     "output_type": "stream",
     "text": [
      "rm: data/GEO datasets/.DS_Store: No such file or directory\r\n",
      "Breast_GSE22820_processed.csv Succeed\n"
     ]
    }
   ],
   "source": [
    "# step 1: move datasets to folders\n",
    "# step 2: move GA scrs to folders\n",
    "path = 'res/GEO_datasets'\n",
    "names = os.listdir(path)\n",
    "\n",
    "! rm -r data/GEO' 'datasets/.DS_Store\n",
    "\n",
    "for name in names:\n",
    "    ! cp scr/GeneticAlgorithm/GeneticAlgorithm_eaSimple_DecisionTree_withFeatureReduction.py $path'/'$name\n",
    "    ! cp scr/GeneticAlgorithm/GeneticAlgorithm_eaSimple_LogisticRegression.py $path'/'$name\n",
    "    ! cp scr/GeneticAlgorithm/mytoolbox.py $path'/'$name\n",
    "# step 3: prepare sh file for hpc\n",
    "\n",
    "\n",
    "data = ['LR', 'DTFR']\n",
    "\n",
    "df = pd.read_excel('scr/dataPreparation/datasets.xlsx',skiprows=6)\n",
    "a = df.values.tolist()\n",
    "del a[-1]\n",
    "\n",
    "for val in a:\n",
    "    name = val[0]\n",
    "    limit_split = val[1].split('~')\n",
    "    start = int(limit_split[0])\n",
    "    finish = int(limit_split[1])\n",
    "    time_split = val[2].split('hour')\n",
    "    time = time_split[0]+':00:00'\n",
    "    mem = val[3]\n",
    "    p_size = val[4]\n",
    "    G_num = val[5]\n",
    "    for i in data:\n",
    "        if i == 'LR':\n",
    "            for size in range(start,finish+1):\n",
    "                ! touch $path'/'$name'/Run_eaSimple_'$i'_SizeLimit_'$size'.sh'\n",
    "                ! echo '#!/bin/sh' >> $path'/'$name'/Run_eaSimple_'$i'_SizeLimit_'$size'.sh'\n",
    "                ! echo '#SBATCH --array=1-100' >> $path'/'$name'/Run_eaSimple_'$i'_SizeLimit_'$size'.sh'\n",
    "                ! echo '#SBATCH --job-name=CRC_'$i'_'$size >> $path'/'$name'/Run_eaSimple_'$i'_SizeLimit_'$size'.sh'\n",
    "                ! echo '#SBATCH --time='$time >> $path'/'$name'/Run_eaSimple_'$i'_SizeLimit_'$size'.sh'\n",
    "                ! echo '#SBATCH -c 1' >> $path'/'$name'/Run_eaSimple_'$i'_SizeLimit_'$size'.sh'\n",
    "                ! echo '#SBATCH --mem '$mem >> $path'/'$name'/Run_eaSimple_'$i'_SizeLimit_'$size'.sh'\n",
    "                ! echo >> $path'/'$name'/Run_eaSimple_'$i'_SizeLimit_'$size'.sh'\n",
    "                ! echo 'source $HOME/.local/ENV/bin/activate' >> $path'/'$name'/Run_eaSimple_'$i'_SizeLimit_'$size'.sh'\n",
    "                ! echo >> $path'/'$name'/Run_eaSimple_'$i'_SizeLimit_'$size'.sh'\n",
    "                ! echo 'SIZE_LIMITE='$size >> $path'/'$name'/Run_eaSimple_'$i'_SizeLimit_'$size'.sh'\n",
    "                ! echo >> $path'/'$name'/Run_eaSimple_'$i'_SizeLimit_'$size'.sh'\n",
    "                ! echo 'python GeneticAlgorithm_eaSimple_DecisionTree_withFeatureReduction.py -f '$name'_train.csv -m 0.2 -c 0.8 -t 6 -p '$p_size' -s \"$SIZE_LIMITE\" -g '$G_num' -r 1 > res_simpleGAplus'$i'_sizelim_\"$SIZE_LIMITE\"_$SLURM_ARRAY_TASK_ID.txt' >> $path'/'$name'/Run_eaSimple_'$i'_SizeLimit_'$size'.sh'\n",
    "        else:\n",
    "             for size in range(start,finish+1):\n",
    "                ! touch $path'/'$name'/Run_eaSimple_'$i'_SizeLimit_'$size'.sh'\n",
    "                ! echo '#!/bin/sh' >> $path'/'$name'/Run_eaSimple_'$i'_SizeLimit_'$size'.sh'\n",
    "                ! echo '#SBATCH --array=1-100' >> $path'/'$name'/Run_eaSimple_'$i'_SizeLimit_'$size'.sh'\n",
    "                ! echo '#SBATCH --job-name=CRC_'$i'_'$size >> $path'/'$name'/Run_eaSimple_'$i'_SizeLimit_'$size'.sh'\n",
    "                ! echo '#SBATCH --time='$time >> $path'/'$name'/Run_eaSimple_'$i'_SizeLimit_'$size'.sh'\n",
    "                ! echo '#SBATCH -c 1' >> $path'/'$name'/Run_eaSimple_'$i'_SizeLimit_'$size'.sh'\n",
    "                ! echo '#SBATCH --mem '$mem >> $path'/'$name'/Run_eaSimple_'$i'_SizeLimit_'$size'.sh'\n",
    "                ! echo >> $path'/'$name'/Run_eaSimple_'$i'_SizeLimit_'$size'.sh'\n",
    "                ! echo 'source $HOME/.local/ENV/bin/activate' >> $path'/'$name'/Run_eaSimple_'$i'_SizeLimit_'$size'.sh'\n",
    "                ! echo >> $path'/'$name'/Run_eaSimple_'$i'_SizeLimit_'$size'.sh'\n",
    "                ! echo 'SIZE_LIMITE='$size >> $path'/'$name'/Run_eaSimple_'$i'_SizeLimit_'$size'.sh'\n",
    "                ! echo >> $path'/'$name'/Run_eaSimple_'$i'_SizeLimit_'$size'.sh'\n",
    "                ! echo 'python GeneticAlgorithm_eaSimple_LogisticRegression.py -f '$name'_train.csv -m 0.2 -c 0.8 -t 6 -p '$p_size' -s \"$SIZE_LIMITE\" -g '$G_num' -r 1 > res_simpleGAplus'$i'_sizelim_\"$SIZE_LIMITE\"_$SLURM_ARRAY_TASK_ID.txt' >> $path'/'$name'/Run_eaSimple_'$i'_SizeLimit_'$size'.sh'\n",
    "    print(name+' Succeed')"
   ]
  },
  {
   "cell_type": "markdown",
   "id": "4e2ae859",
   "metadata": {
    "pycharm": {
     "name": "#%% md\n"
    }
   },
   "source": [
    "## GWAS dataset"
   ]
  },
  {
   "cell_type": "code",
   "execution_count": null,
   "id": "3dc6218b",
   "metadata": {
    "pycharm": {
     "name": "#%%\n"
    }
   },
   "outputs": [],
   "source": [
    "# step 1: move datasets to folders\n",
    "# step 2: move GA scrs to folders\n",
    "# step 3: prepare sh file for hpc"
   ]
  }
 ],
 "metadata": {
  "kernelspec": {
   "display_name": "Python 3 (ipykernel)",
   "language": "python",
   "name": "python3"
  },
  "language_info": {
   "codemirror_mode": {
    "name": "ipython",
    "version": 3
   },
   "file_extension": ".py",
   "mimetype": "text/x-python",
   "name": "python",
   "nbconvert_exporter": "python",
   "pygments_lexer": "ipython3",
   "version": "3.9.12"
  }
 },
 "nbformat": 4,
 "nbformat_minor": 5
}